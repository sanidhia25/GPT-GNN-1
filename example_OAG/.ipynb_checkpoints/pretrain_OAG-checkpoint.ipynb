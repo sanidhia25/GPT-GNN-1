{
 "cells": [
  {
   "cell_type": "code",
   "execution_count": 1,
   "id": "3c4f09c2",
   "metadata": {},
   "outputs": [],
   "source": [
    "import sys\n",
    "from GPT_GNN.data import *\n",
    "from GPT_GNN.model import *\n",
    "from warnings import filterwarnings\n",
    "filterwarnings(\"ignore\")\n",
    "\n",
    "import argparse"
   ]
  },
  {
   "cell_type": "code",
   "execution_count": null,
   "id": "518169d5",
   "metadata": {},
   "outputs": [],
   "source": [
    "parser = argparse.ArgumentParser(description='Pre-training HGT on a given graph (heterogeneous / homogeneous)')\n",
    "\n",
    "'''\n",
    "   GPT-GNN arguments \n",
    "'''\n",
    "parser.add_argument('--attr_ratio', type=float, default=0.5,\n",
    "                    help='Ratio of attr-loss against link-loss, range: [0-1]') \n",
    "parser.add_argument('--attr_type', type=str, default='text',\n",
    "                    choices=['text', 'vec'],\n",
    "                    help='The type of attribute decoder')\n",
    "parser.add_argument('--neg_samp_num', type=int, default=255,\n",
    "                    help='Maximum number of negative sample for each target node.')\n",
    "parser.add_argument('--queue_size', type=int, default=256,\n",
    "                    help='Max size of adaptive embedding queue.')\n",
    "parser.add_argument('--w2v_dir', type=str, default='/datadrive/dataset/w2v_all',\n",
    "                    help='The address of preprocessed graph.')\n",
    "\n",
    "'''\n",
    "    Dataset arguments\n",
    "'''\n",
    "parser.add_argument('--data_dir', type=str, default='./processed_OAG/graph_CS.pk',\n",
    "                    help='The address of preprocessed graph.')\n",
    "parser.add_argument('--pretrain_model_dir', type=str, default='./Pretrained_model',\n",
    "                    help='The address for storing the models and optimization results.')\n",
    "parser.add_argument('--cuda', type=int, default=-1,\n",
    "                    help='Avaiable GPU ID')      \n",
    "parser.add_argument('--sample_depth', type=int, default=6,\n",
    "                    help='How many layers within a mini-batch subgraph')\n",
    "parser.add_argument('--sample_width', type=int, default=128,\n",
    "                    help='How many nodes to be sampled per layer per type')\n",
    "\n",
    "'''\n",
    "   Model arguments \n",
    "'''\n",
    "parser.add_argument('--conv_name', type=str, default='hgt',\n",
    "                    choices=['hgt', 'gcn', 'gat', 'rgcn', 'han', 'hetgnn'],\n",
    "                    help='The name of GNN filter. By default is Heterogeneous Graph Transformer (hgt)')\n",
    "parser.add_argument('--n_hid', type=int, default=400,\n",
    "                    help='Number of hidden dimension')\n",
    "parser.add_argument('--n_heads', type=int, default=8,\n",
    "                    help='Number of attention head')\n",
    "parser.add_argument('--n_layers', type=int, default=3,\n",
    "                    help='Number of GNN layers')\n",
    "parser.add_argument('--prev_norm', help='Whether to add layer-norm on the previous layers', action='store_true', default=True)\n",
    "parser.add_argument('--last_norm', help='Whether to add layer-norm on the last layers',     action='store_true', default=True)\n",
    "parser.add_argument('--dropout', type=int, default=0.2,\n",
    "                    help='Dropout ratio')\n",
    "\n",
    "'''\n",
    "    Optimization arguments\n",
    "'''\n",
    "parser.add_argument('--max_lr', type=float, default=1e-3,\n",
    "                    help='Maximum learning rate.')\n",
    "parser.add_argument('--scheduler', type=str, default='cycle',\n",
    "                    help='Name of learning rate scheduler.' , choices=['cycle', 'cosine'])\n",
    "parser.add_argument('--n_epoch', type=int, default=20,\n",
    "                    help='Number of epoch to run')\n",
    "parser.add_argument('--n_pool', type=int, default=8,\n",
    "                    help='Number of process to sample subgraph')    \n",
    "parser.add_argument('--n_batch', type=int, default=32,\n",
    "                    help='Number of batch (sampled graphs) for each epoch') \n",
    "parser.add_argument('--batch_size', type=int, default=256,\n",
    "                    help='Number of output nodes for training')    \n",
    "parser.add_argument('--clip', type=float, default=0.5,\n",
    "                    help='Gradient Norm Clipping') \n",
    "\n",
    "\n",
    "args = parser.parse_args()"
   ]
  },
  {
   "cell_type": "code",
   "execution_count": null,
   "id": "d5707a42",
   "metadata": {},
   "outputs": [],
   "source": [
    "args_print(args)"
   ]
  }
 ],
 "metadata": {
  "kernelspec": {
   "display_name": "Python 3 (ipykernel)",
   "language": "python",
   "name": "python3"
  },
  "language_info": {
   "codemirror_mode": {
    "name": "ipython",
    "version": 3
   },
   "file_extension": ".py",
   "mimetype": "text/x-python",
   "name": "python",
   "nbconvert_exporter": "python",
   "pygments_lexer": "ipython3",
   "version": "3.10.5"
  }
 },
 "nbformat": 4,
 "nbformat_minor": 5
}
