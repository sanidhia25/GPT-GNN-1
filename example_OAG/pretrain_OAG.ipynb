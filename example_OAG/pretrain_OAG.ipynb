{
 "cells": [
  {
   "cell_type": "code",
   "execution_count": 1,
   "id": "e1bac9c1",
   "metadata": {},
   "outputs": [],
   "source": [
    "import sys\n",
    "from GPT_GNN.data import *\n",
    "from GPT_GNN.model import *\n",
    "from warnings import filterwarnings\n",
    "filterwarnings(\"ignore\")\n",
    "\n",
    "import argparse"
   ]
  },
  {
   "cell_type": "code",
   "execution_count": 2,
   "id": "b71038b4",
   "metadata": {},
   "outputs": [
    {
     "name": "stderr",
     "output_type": "stream",
     "text": [
      "usage: ipykernel_launcher.py [-h] [--attr_ratio ATTR_RATIO] [--attr_type {text,vec}] [--neg_samp_num NEG_SAMP_NUM]\n",
      "                             [--queue_size QUEUE_SIZE] [--w2v_dir W2V_DIR] [--data_dir DATA_DIR]\n",
      "                             [--pretrain_model_dir PRETRAIN_MODEL_DIR] [--cuda CUDA] [--sample_depth SAMPLE_DEPTH]\n",
      "                             [--sample_width SAMPLE_WIDTH] [--conv_name {hgt,gcn,gat,rgcn,han,hetgnn}] [--n_hid N_HID]\n",
      "                             [--n_heads N_HEADS] [--n_layers N_LAYERS] [--prev_norm] [--last_norm] [--dropout DROPOUT]\n",
      "                             [--max_lr MAX_LR] [--scheduler {cycle,cosine}] [--n_epoch N_EPOCH] [--n_pool N_POOL]\n",
      "                             [--n_batch N_BATCH] [--batch_size BATCH_SIZE] [--clip CLIP]\n",
      "ipykernel_launcher.py: error: unrecognized arguments: -f C:\\Users\\Sanidhia Maheshwari\\AppData\\Roaming\\jupyter\\runtime\\kernel-a373cca4-c619-468a-b72d-93aa514d371d.json\n"
     ]
    },
    {
     "ename": "SystemExit",
     "evalue": "2",
     "output_type": "error",
     "traceback": [
      "An exception has occurred, use %tb to see the full traceback.\n",
      "\u001b[1;31mSystemExit\u001b[0m\u001b[1;31m:\u001b[0m 2\n"
     ]
    }
   ],
   "source": [
    "parser = argparse.ArgumentParser(description='Pre-training HGT on a given graph (heterogeneous / homogeneous)')\n",
    "\n",
    "'''\n",
    "   GPT-GNN arguments \n",
    "'''\n",
    "parser.add_argument('--attr_ratio', type=float, default=0.5,\n",
    "                    help='Ratio of attr-loss against link-loss, range: [0-1]') \n",
    "parser.add_argument('--attr_type', type=str, default='text',\n",
    "                    choices=['text', 'vec'],\n",
    "                    help='The type of attribute decoder')\n",
    "parser.add_argument('--neg_samp_num', type=int, default=255,\n",
    "                    help='Maximum number of negative sample for each target node.')\n",
    "parser.add_argument('--queue_size', type=int, default=256,\n",
    "                    help='Max size of adaptive embedding queue.')\n",
    "parser.add_argument('--w2v_dir', type=str, default='/datadrive/dataset/w2v_all',\n",
    "                    help='The address of preprocessed graph.')\n",
    "\n",
    "'''\n",
    "    Dataset arguments\n",
    "'''\n",
    "parser.add_argument('--data_dir', type=str, default='./processed_OAG/graph_CS.pk',\n",
    "                    help='The address of preprocessed graph.')\n",
    "parser.add_argument('--pretrain_model_dir', type=str, default='./Pretrained_model',\n",
    "                    help='The address for storing the models and optimization results.')\n",
    "parser.add_argument('--cuda', type=int, default=-1,\n",
    "                    help='Avaiable GPU ID')      \n",
    "parser.add_argument('--sample_depth', type=int, default=6,\n",
    "                    help='How many layers within a mini-batch subgraph')\n",
    "parser.add_argument('--sample_width', type=int, default=128,\n",
    "                    help='How many nodes to be sampled per layer per type')\n",
    "\n",
    "'''\n",
    "   Model arguments \n",
    "'''\n",
    "parser.add_argument('--conv_name', type=str, default='hgt',\n",
    "                    choices=['hgt', 'gcn', 'gat', 'rgcn', 'han', 'hetgnn'],\n",
    "                    help='The name of GNN filter. By default is Heterogeneous Graph Transformer (hgt)')\n",
    "parser.add_argument('--n_hid', type=int, default=400,\n",
    "                    help='Number of hidden dimension')\n",
    "parser.add_argument('--n_heads', type=int, default=8,\n",
    "                    help='Number of attention head')\n",
    "parser.add_argument('--n_layers', type=int, default=3,\n",
    "                    help='Number of GNN layers')\n",
    "parser.add_argument('--prev_norm', help='Whether to add layer-norm on the previous layers', action='store_true', default=True)\n",
    "parser.add_argument('--last_norm', help='Whether to add layer-norm on the last layers',     action='store_true', default=True)\n",
    "parser.add_argument('--dropout', type=int, default=0.2,\n",
    "                    help='Dropout ratio')\n",
    "\n",
    "'''\n",
    "    Optimization arguments\n",
    "'''\n",
    "parser.add_argument('--max_lr', type=float, default=1e-3,\n",
    "                    help='Maximum learning rate.')\n",
    "parser.add_argument('--scheduler', type=str, default='cycle',\n",
    "                    help='Name of learning rate scheduler.' , choices=['cycle', 'cosine'])\n",
    "parser.add_argument('--n_epoch', type=int, default=20,\n",
    "                    help='Number of epoch to run')\n",
    "parser.add_argument('--n_pool', type=int, default=8,\n",
    "                    help='Number of process to sample subgraph')    \n",
    "parser.add_argument('--n_batch', type=int, default=32,\n",
    "                    help='Number of batch (sampled graphs) for each epoch') \n",
    "parser.add_argument('--batch_size', type=int, default=256,\n",
    "                    help='Number of output nodes for training')    \n",
    "parser.add_argument('--clip', type=float, default=0.5,\n",
    "                    help='Gradient Norm Clipping') \n",
    "\n",
    "\n",
    "args = parser.parse_args()"
   ]
  },
  {
   "cell_type": "code",
   "execution_count": 3,
   "id": "bc926836",
   "metadata": {},
   "outputs": [
    {
     "ename": "NameError",
     "evalue": "name 'args' is not defined",
     "output_type": "error",
     "traceback": [
      "\u001b[1;31m---------------------------------------------------------------------------\u001b[0m",
      "\u001b[1;31mNameError\u001b[0m                                 Traceback (most recent call last)",
      "\u001b[1;32mC:\\Users\\SANIDH~1\\AppData\\Local\\Temp/ipykernel_6336/670408983.py\u001b[0m in \u001b[0;36m<module>\u001b[1;34m\u001b[0m\n\u001b[1;32m----> 1\u001b[1;33m \u001b[0margs_print\u001b[0m\u001b[1;33m(\u001b[0m\u001b[0margs\u001b[0m\u001b[1;33m)\u001b[0m\u001b[1;33m\u001b[0m\u001b[1;33m\u001b[0m\u001b[0m\n\u001b[0m",
      "\u001b[1;31mNameError\u001b[0m: name 'args' is not defined"
     ]
    }
   ],
   "source": [
    "args_print(args)"
   ]
  },
  {
   "cell_type": "code",
   "execution_count": null,
   "id": "85cc7336",
   "metadata": {},
   "outputs": [],
   "source": []
  }
 ],
 "metadata": {
  "kernelspec": {
   "display_name": "Python 3 (ipykernel)",
   "language": "python",
   "name": "python3"
  },
  "language_info": {
   "codemirror_mode": {
    "name": "ipython",
    "version": 3
   },
   "file_extension": ".py",
   "mimetype": "text/x-python",
   "name": "python",
   "nbconvert_exporter": "python",
   "pygments_lexer": "ipython3",
   "version": "3.10.5"
  }
 },
 "nbformat": 4,
 "nbformat_minor": 5
}
